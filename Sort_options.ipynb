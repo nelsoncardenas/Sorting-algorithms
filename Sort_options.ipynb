{
 "cells": [
  {
   "cell_type": "markdown",
   "metadata": {},
   "source": [
    "# Sorting algorithms"
   ]
  },
  {
   "cell_type": "markdown",
   "metadata": {},
   "source": [
    "This notebook is a learning logbook were I am studying sorting methods. My plan is to update this notebook every time I study a new sort algorithm. Here you will find algorithms and resources with simple information about:\n",
    "\n",
    "* Bubble sort\n",
    "* Quicksort (opt1 and opt 2)\n",
    "* Mergesort\n"
   ]
  },
  {
   "cell_type": "markdown",
   "metadata": {},
   "source": [
    "## Bubble Sort"
   ]
  },
  {
   "cell_type": "markdown",
   "metadata": {},
   "source": [
    "Learning materials:\n",
    "* Video: https://www.coursera.org/lecture/program-code/bubble-sort-vZDlV\n",
    "* Article: https://runestone.academy/runestone/books/published/pythonds/SortSearch/TheBubbleSort.html\n"
   ]
  },
  {
   "cell_type": "code",
   "execution_count": 1,
   "metadata": {},
   "outputs": [],
   "source": [
    "def bubble_sort(a):\n",
    "    \"\"\" list -> NoneType\n",
    "    Sort the items of L from smallest to largest.\n",
    "    >>> a = [7, 3, 5, 2]\n",
    "    >>> bubble_sort(a)\n",
    "    >>> a\n",
    "    [2, 3, 5, 7]\n",
    "    \"\"\"\n",
    "    #the index of the last unsorted item\n",
    "    end = len(a) - 1\n",
    "    \n",
    "    while end != 0:\n",
    "        #Bubble once trough the unsorted section to move the largest item to index end.\n",
    "        for i in range(end):\n",
    "            if a[i] > a[i + 1]:\n",
    "                a[i], a[i + 1] = a[i + 1], a[i]      \n",
    "        end = end - 1\n",
    "    return a"
   ]
  },
  {
   "cell_type": "code",
   "execution_count": 2,
   "metadata": {},
   "outputs": [
    {
     "data": {
      "text/plain": [
       "[2, 3, 5, 7]"
      ]
     },
     "execution_count": 2,
     "metadata": {},
     "output_type": "execute_result"
    }
   ],
   "source": [
    "a = [7, 3, 5, 2]\n",
    "bubble_sort(a)\n",
    "a"
   ]
  },
  {
   "cell_type": "markdown",
   "metadata": {},
   "source": [
    "## Quicksort (opt 1)\n",
    "This is an inefficient but maybe more intuitive way to get a sense for the functioning behind quicksort. Found in the video https://youtu.be/kFeXwkgnQ9U by Derrick Sherrill."
   ]
  },
  {
   "cell_type": "code",
   "execution_count": 3,
   "metadata": {},
   "outputs": [],
   "source": [
    "def quick_sort(sequence):\n",
    "    length = len(sequence)\n",
    "    if length <= 1:\n",
    "        return sequence\n",
    "    else:\n",
    "        pivot = sequence.pop()\n",
    "    items_greater = []\n",
    "    items_lower = []\n",
    "    \n",
    "    for item in sequence:\n",
    "        if item > pivot:\n",
    "            items_greater.append(item)\n",
    "        else:\n",
    "            items_lower.append(item)\n",
    "    return quick_sort(items_lower) + [pivot] + quick_sort(items_greater)"
   ]
  },
  {
   "cell_type": "code",
   "execution_count": 4,
   "metadata": {},
   "outputs": [
    {
     "data": {
      "text/plain": [
       "[2, 3, 5, 7]"
      ]
     },
     "execution_count": 4,
     "metadata": {},
     "output_type": "execute_result"
    }
   ],
   "source": [
    "a = [7, 3, 5, 2]\n",
    "quick_sort(a)"
   ]
  },
  {
   "cell_type": "markdown",
   "metadata": {},
   "source": [
    "Problems with this implementation include: it modifies the original list if you execute it a second time"
   ]
  },
  {
   "cell_type": "code",
   "execution_count": null,
   "metadata": {},
   "outputs": [],
   "source": []
  },
  {
   "cell_type": "markdown",
   "metadata": {},
   "source": [
    "## Quicksort (opt 2)\n",
    "This implementation was written by Olivera Popović (https://stackabuse.com/quicksort-in-python/)\n",
    "\n",
    "Learning materials:\n",
    "* Video: https://workera.ai/candidates/redirect-resource/?url=https://www.coursera.org/lecture/algorithms-part1/quicksort-vjvnC&title=Algorithms&section=Coding\n",
    "* Article: https://workera.ai/candidates/redirect-resource/?url=https://algs4.cs.princeton.edu/23quicksort/&title=Algorithms&section=Coding"
   ]
  },
  {
   "cell_type": "code",
   "execution_count": 5,
   "metadata": {},
   "outputs": [],
   "source": [
    "def partition(array, start, end):\n",
    "    pivot = array[start]\n",
    "    low = start + 1\n",
    "    high = end\n",
    "\n",
    "    while True:\n",
    "        # If the current value we're looking at is larger than the pivot\n",
    "        # it's in the right place (right side of pivot) and we can move left,\n",
    "        # to the next element.\n",
    "        # We also need to make sure we haven't surpassed the low pointer, since that\n",
    "        # indicates we have already moved all the elements to their correct side of the pivot\n",
    "        while low <= high and array[high] >= pivot:\n",
    "            high = high - 1\n",
    "\n",
    "        # Opposite process of the one above\n",
    "        while low <= high and array[low] <= pivot:\n",
    "            low = low + 1\n",
    "\n",
    "        # We either found a value for both high and low that is out of order\n",
    "        # or low is higher than high, in which case we exit the loop\n",
    "        if low <= high:\n",
    "            array[low], array[high] = array[high], array[low]\n",
    "            # The loop continues\n",
    "        else:\n",
    "            # We exit out of the loop\n",
    "            break\n",
    "\n",
    "    array[start], array[high] = array[high], array[start]\n",
    "\n",
    "    return high\n",
    "\n",
    "def quick_sort(array, start, end):\n",
    "    if start >= end:\n",
    "        return\n",
    "\n",
    "    p = partition(array, start, end)\n",
    "    quick_sort(array, start, p-1)\n",
    "    quick_sort(array, p+1, end)"
   ]
  },
  {
   "cell_type": "code",
   "execution_count": 6,
   "metadata": {},
   "outputs": [
    {
     "data": {
      "text/plain": [
       "[2, 3, 5, 7]"
      ]
     },
     "execution_count": 6,
     "metadata": {},
     "output_type": "execute_result"
    }
   ],
   "source": [
    "a = [7, 3, 5, 2]\n",
    "quick_sort(a, 0, len(a) - 1)\n",
    "a"
   ]
  },
  {
   "cell_type": "markdown",
   "metadata": {},
   "source": [
    "## Merge sort\n",
    "\n",
    "This implementation was written by Joe James https://youtu.be/Nso25TkBsYI\n",
    "\n",
    "Learning materials:\n",
    "* Video: https://workera.ai/candidates/redirect-resource/?url=https://www.coursera.org/lecture/algorithms-part1/mergesort-ARWDq&title=Algorithms&section=Coding\n",
    "* Article: https://workera.ai/candidates/redirect-resource/?url=https://www.programiz.com/dsa/merge-sort&title=Algorithms&section=Coding"
   ]
  },
  {
   "cell_type": "code",
   "execution_count": 7,
   "metadata": {},
   "outputs": [],
   "source": [
    "def merge_sort(a):\n",
    "    merge_sort2(a, 0, len(a)-1)\n",
    "    \n",
    "def merge_sort2(a, first, last):\n",
    "    if first < last:\n",
    "        middle = (first + last) // 2\n",
    "        merge_sort2(a, first, middle)\n",
    "        merge_sort2(a, middle + 1, last)\n",
    "        merge(a, first, middle, last)\n",
    "        \n",
    "def merge(a, first, middle, last):\n",
    "    L = a[first:middle+1]\n",
    "    R = a[middle+1:last+1]\n",
    "    L.append(float('inf'))\n",
    "    R.append(float('inf'))\n",
    "    i = j = 0\n",
    "    for k in range(first, last + 1):\n",
    "        if L[i] <= R[j]:\n",
    "            a[k] = L[i]\n",
    "            i += 1\n",
    "        else:\n",
    "            a[k] = R[j]\n",
    "            j += 1 "
   ]
  },
  {
   "cell_type": "code",
   "execution_count": 8,
   "metadata": {},
   "outputs": [
    {
     "data": {
      "text/plain": [
       "[2, 3, 5, 7]"
      ]
     },
     "execution_count": 8,
     "metadata": {},
     "output_type": "execute_result"
    }
   ],
   "source": [
    "a = [7, 3, 5, 2]\n",
    "merge_sort(a)\n",
    "a"
   ]
  },
  {
   "cell_type": "markdown",
   "metadata": {},
   "source": [
    "<i>Special thanks to Workera some of the materials in their \"Algorithmic Coding\" learning path.</i>"
   ]
  }
 ],
 "metadata": {
  "kernelspec": {
   "display_name": "Python 3",
   "language": "python",
   "name": "python3"
  },
  "language_info": {
   "codemirror_mode": {
    "name": "ipython",
    "version": 3
   },
   "file_extension": ".py",
   "mimetype": "text/x-python",
   "name": "python",
   "nbconvert_exporter": "python",
   "pygments_lexer": "ipython3",
   "version": "3.7.7"
  }
 },
 "nbformat": 4,
 "nbformat_minor": 4
}
